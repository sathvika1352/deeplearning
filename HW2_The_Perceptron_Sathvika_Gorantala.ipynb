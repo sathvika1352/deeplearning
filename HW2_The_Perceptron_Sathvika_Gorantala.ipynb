{
 "cells": [
  {
   "cell_type": "markdown",
   "metadata": {
    "id": "vYiZq0X2oB5t"
   },
   "source": [
    "# **CSCE 5218 / CSCE 4930 Deep Learning**\n",
    "# Sathvika Gorantala\n",
    "\n",
    "# **HW1a The Perceptron** (20 pt)\n"
   ]
  },
  {
   "cell_type": "code",
   "execution_count": 1,
   "metadata": {
    "colab": {
     "base_uri": "https://localhost:8080/"
    },
    "id": "vGVmKzgG2Ium",
    "outputId": "bab88b2e-52f7-4dea-bb1a-286e8a861438"
   },
   "outputs": [
    {
     "name": "stdout",
     "output_type": "stream",
     "text": [
      "--2024-02-18 06:32:22--  http://huang.eng.unt.edu/CSCE-5218/test.dat\n",
      "Resolving huang.eng.unt.edu (huang.eng.unt.edu)... 129.120.123.155\n",
      "Connecting to huang.eng.unt.edu (huang.eng.unt.edu)|129.120.123.155|:80... connected.\n",
      "HTTP request sent, awaiting response... 200 OK\n",
      "Length: 2844 (2.8K)\n",
      "Saving to: ‘test.dat’\n",
      "\n",
      "\r",
      "test.dat              0%[                    ]       0  --.-KB/s               \r",
      "test.dat            100%[===================>]   2.78K  --.-KB/s    in 0s      \n",
      "\n",
      "2024-02-18 06:32:22 (275 MB/s) - ‘test.dat’ saved [2844/2844]\n",
      "\n",
      "--2024-02-18 06:32:22--  http://huang.eng.unt.edu/CSCE-5218/train.dat\n",
      "Resolving huang.eng.unt.edu (huang.eng.unt.edu)... 129.120.123.155\n",
      "Connecting to huang.eng.unt.edu (huang.eng.unt.edu)|129.120.123.155|:80... connected.\n",
      "HTTP request sent, awaiting response... 200 OK\n",
      "Length: 11244 (11K)\n",
      "Saving to: ‘train.dat’\n",
      "\n",
      "train.dat           100%[===================>]  10.98K  --.-KB/s    in 0s      \n",
      "\n",
      "2024-02-18 06:32:22 (232 MB/s) - ‘train.dat’ saved [11244/11244]\n",
      "\n"
     ]
    }
   ],
   "source": [
    "# Get the datasets\n",
    "!wget http://huang.eng.unt.edu/CSCE-5218/test.dat\n",
    "!wget http://huang.eng.unt.edu/CSCE-5218/train.dat\n"
   ]
  },
  {
   "cell_type": "code",
   "execution_count": 2,
   "metadata": {
    "colab": {
     "base_uri": "https://localhost:8080/"
    },
    "id": "A69DxPSc8vNs",
    "outputId": "7bdb199f-5e34-437a-a47d-ea1adda53b24"
   },
   "outputs": [
    {
     "name": "stdout",
     "output_type": "stream",
     "text": [
      "A1\tA2\tA3\tA4\tA5\tA6\tA7\tA8\tA9\tA10\tA11\tA12\tA13\t\n",
      "1\t1\t0\t0\t0\t0\t0\t0\t1\t1\t0\t0\t1\t0\n",
      "0\t0\t1\t1\t0\t1\t1\t0\t0\t0\t0\t0\t1\t0\n",
      "0\t1\t0\t1\t1\t0\t1\t0\t1\t1\t1\t0\t1\t1\n",
      "0\t0\t1\t0\t0\t1\t0\t1\t0\t1\t1\t1\t1\t0\n",
      "0\t1\t0\t0\t0\t0\t0\t1\t1\t1\t1\t1\t1\t0\n",
      "0\t1\t1\t1\t0\t0\t0\t1\t0\t1\t1\t0\t1\t1\n",
      "0\t1\t1\t0\t0\t0\t1\t0\t0\t0\t0\t0\t1\t0\n",
      "0\t0\t0\t1\t1\t0\t1\t1\t1\t0\t0\t0\t1\t0\n",
      "0\t0\t0\t0\t0\t0\t1\t0\t1\t0\t1\t0\t1\t0\n",
      "A1\tA2\tA3\tA4\tA5\tA6\tA7\tA8\tA9\tA10\tA11\tA12\tA13\n",
      "1\t1\t1\t1\t0\t0\t1\t1\t0\t0\t0\t1\t1\t0\n",
      "0\t0\t0\t1\t0\t0\t1\t1\t0\t1\t0\t0\t1\t0\n",
      "0\t1\t1\t1\t0\t1\t1\t1\t1\t0\t0\t0\t1\t0\n",
      "0\t1\t1\t0\t1\t0\t1\t1\t1\t0\t1\t0\t1\t0\n",
      "0\t1\t0\t0\t0\t1\t0\t1\t0\t1\t0\t0\t1\t0\n",
      "0\t1\t1\t0\t0\t1\t1\t1\t1\t1\t1\t0\t1\t0\n",
      "0\t1\t1\t1\t0\t0\t1\t1\t0\t0\t0\t1\t1\t0\n",
      "0\t1\t0\t0\t1\t0\t0\t1\t1\t0\t1\t1\t1\t0\n",
      "1\t1\t1\t1\t0\t0\t1\t1\t0\t0\t0\t0\t1\t0\n"
     ]
    }
   ],
   "source": [
    "# Take a peek at the datasets\n",
    "!head train.dat\n",
    "!head test.dat"
   ]
  },
  {
   "cell_type": "markdown",
   "metadata": {
    "id": "rFXHLhnhwiBR"
   },
   "source": [
    "### Build the Perceptron Model\n",
    "\n",
    "You will need to complete some of the function definitions below.  DO NOT import any other libraries to complete this."
   ]
  },
  {
   "cell_type": "code",
   "execution_count": 3,
   "metadata": {
    "id": "cXAsP_lw3QwJ"
   },
   "outputs": [],
   "source": [
    "import math\n",
    "import itertools\n",
    "import re\n",
    "\n",
    "\n",
    "# Corpus reader, all columns but the last one are coordinates;\n",
    "#   the last column is the label\n",
    "def read_data(file_name):\n",
    "    f = open(file_name, 'r')\n",
    "\n",
    "    data = []\n",
    "    # Discard header line\n",
    "    f.readline()\n",
    "    for instance in f.readlines():\n",
    "        if not re.search('\\t', instance): continue\n",
    "        instance = list(map(int, instance.strip().split('\\t')))\n",
    "        # Add a dummy input so that w0 becomes the bias\n",
    "        instance = [-1] + instance\n",
    "        data += [instance]\n",
    "    return data\n",
    "\n",
    "\n",
    "def dot_product(array1, array2):\n",
    "    # Return dot product of array 1 and array 2\n",
    "    return sum(x * y for x, y in zip(array1, array2))\n",
    "\n",
    "\n",
    "def sigmoid(x):\n",
    "    # Return output of sigmoid function on x\n",
    "    return 1 / (1 + math.exp(-x))\n",
    "\n",
    "# The output of the model, which for the perceptron is\n",
    "# the sigmoid function applied to the dot product of\n",
    "# the instance and the weights\n",
    "def output(weight, instance):\n",
    "    # Return the output of the model\n",
    "    return sigmoid(dot_product(weight, instance))\n",
    "\n",
    "# Predict the label of an instance; this is the definition of the perceptron\n",
    "# you should output 1 if the output is >= 0.5 else output 0\n",
    "def predict(weights, instance):\n",
    "    # Return the prediction of the model\n",
    "    return 1 if output(weights, instance) >= 0.5 else 0\n",
    "\n",
    "\n",
    "# Accuracy = percent of correct predictions\n",
    "def get_accuracy(weights, instances):\n",
    "    correct = sum(1 if predict(weights, instance) == instance[-1] else 0\n",
    "                  for instance in instances)\n",
    "    return correct * 100 / len(instances)\n",
    "\n",
    "\n",
    "# Train a perceptron with instances and hyperparameters:\n",
    "#       lr (learning rate)\n",
    "#       epochs\n",
    "# The implementation comes from the definition of the perceptron\n",
    "#\n",
    "# Training consists on fitting the parameters which are the weights\n",
    "# that's the only thing training is responsible to fit\n",
    "# (recall that w0 is the bias, and w1..wn are the weights for each coordinate)\n",
    "#\n",
    "# Hyperparameters (lr and epochs) are given to the training algorithm\n",
    "# We are updating weights in the opposite direction of the gradient of the error,\n",
    "# so with a \"decent\" lr we are guaranteed to reduce the error after each iteration.\n",
    "def train_perceptron(instances, lr, epochs):\n",
    "    # Initializing weights with zeros, one weight for each feature\n",
    "    weights = [0] * (len(instances[0]) - 1)\n",
    "\n",
    "    # Iterating through epochs for training\n",
    "    for _ in range(epochs):\n",
    "        # Iterating through each training instance\n",
    "        for instance in instances:\n",
    "            # Calculating the dot product of weights and instance features\n",
    "            in_value = dot_product(weights, instance)\n",
    "            # Application of the sigmoid function to the dot product to get the output\n",
    "            output_value = sigmoid(in_value)\n",
    "            # Calculating the error by comparing the actual label and the output\n",
    "            error = instance[-1] - output_value\n",
    "            \n",
    "            # Updating each weight based on the error, output, and learning rate\n",
    "            for i in range(0, len(weights)):\n",
    "                weights[i] += lr * error * output_value * (1 - output_value) * instance[i]\n",
    "\n",
    "    # Return the updated weights after training\n",
    "    return weights\n"
   ]
  },
  {
   "cell_type": "markdown",
   "metadata": {
    "id": "adBZuMlAwiBT"
   },
   "source": [
    "## Run it"
   ]
  },
  {
   "cell_type": "code",
   "execution_count": 4,
   "metadata": {
    "colab": {
     "base_uri": "https://localhost:8080/"
    },
    "id": "50YvUza-BYQF",
    "outputId": "235908ec-92bc-42cf-ecc6-4ed9a26c254c"
   },
   "outputs": [
    {
     "name": "stdout",
     "output_type": "stream",
     "text": [
      "#tr: 400, epochs:   5, learning rate: 0.005; Accuracy (test, 100 instances): 68.0\n"
     ]
    }
   ],
   "source": [
    "instances_tr = read_data(\"train.dat\")\n",
    "instances_te = read_data(\"test.dat\")\n",
    "lr = 0.005\n",
    "epochs = 5\n",
    "weights = train_perceptron(instances_tr, lr, epochs)\n",
    "accuracy = get_accuracy(weights, instances_te)\n",
    "print(f\"#tr: {len(instances_tr):3}, epochs: {epochs:3}, learning rate: {lr:.3f}; \"\n",
    "      f\"Accuracy (test, {len(instances_te)} instances): {accuracy:.1f}\")"
   ]
  },
  {
   "cell_type": "markdown",
   "metadata": {
    "id": "CBXkvaiQMohX"
   },
   "source": [
    "## Questions\n",
    "\n",
    "Answer the following questions. Include your implementation and the output for each question."
   ]
  },
  {
   "cell_type": "markdown",
   "metadata": {
    "id": "YCQ6BEk1CBlr"
   },
   "source": [
    "\n",
    "\n",
    "### Question 1\n",
    "\n",
    "In `train_perceptron(instances, lr, epochs)`, we have the follosing code:\n",
    "```\n",
    "in_value = dot_product(weights, instance)\n",
    "output = sigmoid(in_value)\n",
    "error = instance[-1] - output\n",
    "```\n",
    "\n",
    "Why don't we have the following code snippet instead?\n",
    "```\n",
    "output = predict(weights, instance)\n",
    "error = instance[-1] - output\n",
    "```\n",
    "\n",
    "#### TODO Add your answer here (text only)\n",
    "\n",
    "Within the `train_perceptron` function, the output is retrieved by evaluating the sigmoid function on the dot product of weights and feature instances. This outcome is obtained by performing the weighted sum of inputs in which the sigmoid function is applied.\n",
    "\n",
    "By introducing non-linearity into the model, the sigmoid function helps the model to learn more complex data patterns. The flexible function prediction would have never included the non-linearity, bringing it to a linear classifier. The linear classifier may not be appropriate regarding the underlying patterns of the data,\n",
    "\n",
    "Moreover, the sigmoid function becomes paramount in calculating output to assess the error to be used in the training of the perceptron successfully.\n",
    "\n",
    "\n",
    "\n"
   ]
  },
  {
   "cell_type": "markdown",
   "metadata": {
    "id": "JU3c3m6YL2rK"
   },
   "source": [
    "### Question 2\n",
    "Train the perceptron with the following hyperparameters and calculate the accuracy with the test dataset.\n",
    "\n",
    "```\n",
    "tr_percent = [5, 10, 25, 50, 75, 100] # percent of the training dataset to train with\n",
    "num_epochs = [5, 10, 20, 50, 100]              # number of epochs\n",
    "lr = [0.005, 0.01, 0.05]              # learning rate\n",
    "```\n",
    "\n",
    "TODO: Write your code below and include the output at the end of each training loop (NOT AFTER EACH EPOCH)\n",
    "of your code.The output should look like the following:\n",
    "```\n",
    "# tr:  20, epochs:   5, learning rate: 0.005; Accuracy (test, 100 instances): 68.0\n",
    "# tr:  20, epochs:  10, learning rate: 0.005; Accuracy (test, 100 instances): 68.0\n",
    "# tr:  20, epochs:  20, learning rate: 0.005; Accuracy (test, 100 instances): 68.0\n",
    "[and so on for all the combinations]\n",
    "```\n",
    "You will get different results with different hyperparameters.\n",
    "\n",
    "#### TODO Add your answer here (code and output in the format above)\n"
   ]
  },
  {
   "cell_type": "markdown",
   "metadata": {
    "id": "pfgvfH24_WMF"
   },
   "source": [
    "## Question 2 Answer"
   ]
  },
  {
   "cell_type": "code",
   "execution_count": 14,
   "metadata": {
    "colab": {
     "base_uri": "https://localhost:8080/"
    },
    "id": "fGY0e_xu9xqr",
    "outputId": "5616631a-c805-4c6c-cdfc-5dab378b8d5e"
   },
   "outputs": [
    {
     "name": "stdout",
     "output_type": "stream",
     "text": [
      "# tr:   5, epochs:   5, learning rate: 0.005; Accuracy (test, 100 instances): 68.0\n",
      "# tr:   5, epochs:   5, learning rate: 0.010; Accuracy (test, 100 instances): 68.0\n",
      "# tr:   5, epochs:   5, learning rate: 0.050; Accuracy (test, 100 instances): 68.0\n",
      "# tr:   5, epochs:  10, learning rate: 0.005; Accuracy (test, 100 instances): 68.0\n",
      "# tr:   5, epochs:  10, learning rate: 0.010; Accuracy (test, 100 instances): 68.0\n",
      "# tr:   5, epochs:  10, learning rate: 0.050; Accuracy (test, 100 instances): 68.0\n",
      "# tr:   5, epochs:  20, learning rate: 0.005; Accuracy (test, 100 instances): 68.0\n",
      "# tr:   5, epochs:  20, learning rate: 0.010; Accuracy (test, 100 instances): 68.0\n",
      "# tr:   5, epochs:  20, learning rate: 0.050; Accuracy (test, 100 instances): 68.0\n",
      "# tr:   5, epochs:  50, learning rate: 0.005; Accuracy (test, 100 instances): 68.0\n",
      "# tr:   5, epochs:  50, learning rate: 0.010; Accuracy (test, 100 instances): 68.0\n",
      "# tr:   5, epochs:  50, learning rate: 0.050; Accuracy (test, 100 instances): 68.0\n",
      "# tr:   5, epochs: 100, learning rate: 0.005; Accuracy (test, 100 instances): 68.0\n",
      "# tr:   5, epochs: 100, learning rate: 0.010; Accuracy (test, 100 instances): 68.0\n",
      "# tr:   5, epochs: 100, learning rate: 0.050; Accuracy (test, 100 instances): 64.0\n",
      "# tr:  10, epochs:   5, learning rate: 0.005; Accuracy (test, 100 instances): 68.0\n",
      "# tr:  10, epochs:   5, learning rate: 0.010; Accuracy (test, 100 instances): 68.0\n",
      "# tr:  10, epochs:   5, learning rate: 0.050; Accuracy (test, 100 instances): 68.0\n",
      "# tr:  10, epochs:  10, learning rate: 0.005; Accuracy (test, 100 instances): 68.0\n",
      "# tr:  10, epochs:  10, learning rate: 0.010; Accuracy (test, 100 instances): 68.0\n",
      "# tr:  10, epochs:  10, learning rate: 0.050; Accuracy (test, 100 instances): 68.0\n",
      "# tr:  10, epochs:  20, learning rate: 0.005; Accuracy (test, 100 instances): 68.0\n",
      "# tr:  10, epochs:  20, learning rate: 0.010; Accuracy (test, 100 instances): 68.0\n",
      "# tr:  10, epochs:  20, learning rate: 0.050; Accuracy (test, 100 instances): 68.0\n",
      "# tr:  10, epochs:  50, learning rate: 0.005; Accuracy (test, 100 instances): 68.0\n",
      "# tr:  10, epochs:  50, learning rate: 0.010; Accuracy (test, 100 instances): 68.0\n",
      "# tr:  10, epochs:  50, learning rate: 0.050; Accuracy (test, 100 instances): 71.0\n",
      "# tr:  10, epochs: 100, learning rate: 0.005; Accuracy (test, 100 instances): 68.0\n",
      "# tr:  10, epochs: 100, learning rate: 0.010; Accuracy (test, 100 instances): 68.0\n",
      "# tr:  10, epochs: 100, learning rate: 0.050; Accuracy (test, 100 instances): 69.0\n",
      "# tr:  25, epochs:   5, learning rate: 0.005; Accuracy (test, 100 instances): 68.0\n",
      "# tr:  25, epochs:   5, learning rate: 0.010; Accuracy (test, 100 instances): 68.0\n",
      "# tr:  25, epochs:   5, learning rate: 0.050; Accuracy (test, 100 instances): 68.0\n",
      "# tr:  25, epochs:  10, learning rate: 0.005; Accuracy (test, 100 instances): 68.0\n",
      "# tr:  25, epochs:  10, learning rate: 0.010; Accuracy (test, 100 instances): 68.0\n",
      "# tr:  25, epochs:  10, learning rate: 0.050; Accuracy (test, 100 instances): 67.0\n",
      "# tr:  25, epochs:  20, learning rate: 0.005; Accuracy (test, 100 instances): 68.0\n",
      "# tr:  25, epochs:  20, learning rate: 0.010; Accuracy (test, 100 instances): 68.0\n",
      "# tr:  25, epochs:  20, learning rate: 0.050; Accuracy (test, 100 instances): 70.0\n",
      "# tr:  25, epochs:  50, learning rate: 0.005; Accuracy (test, 100 instances): 68.0\n",
      "# tr:  25, epochs:  50, learning rate: 0.010; Accuracy (test, 100 instances): 68.0\n",
      "# tr:  25, epochs:  50, learning rate: 0.050; Accuracy (test, 100 instances): 74.0\n",
      "# tr:  25, epochs: 100, learning rate: 0.005; Accuracy (test, 100 instances): 68.0\n",
      "# tr:  25, epochs: 100, learning rate: 0.010; Accuracy (test, 100 instances): 71.0\n",
      "# tr:  25, epochs: 100, learning rate: 0.050; Accuracy (test, 100 instances): 77.0\n",
      "# tr:  50, epochs:   5, learning rate: 0.005; Accuracy (test, 100 instances): 68.0\n",
      "# tr:  50, epochs:   5, learning rate: 0.010; Accuracy (test, 100 instances): 68.0\n",
      "# tr:  50, epochs:   5, learning rate: 0.050; Accuracy (test, 100 instances): 71.0\n",
      "# tr:  50, epochs:  10, learning rate: 0.005; Accuracy (test, 100 instances): 68.0\n",
      "# tr:  50, epochs:  10, learning rate: 0.010; Accuracy (test, 100 instances): 68.0\n",
      "# tr:  50, epochs:  10, learning rate: 0.050; Accuracy (test, 100 instances): 77.0\n",
      "# tr:  50, epochs:  20, learning rate: 0.005; Accuracy (test, 100 instances): 68.0\n",
      "# tr:  50, epochs:  20, learning rate: 0.010; Accuracy (test, 100 instances): 68.0\n",
      "# tr:  50, epochs:  20, learning rate: 0.050; Accuracy (test, 100 instances): 78.0\n",
      "# tr:  50, epochs:  50, learning rate: 0.005; Accuracy (test, 100 instances): 67.0\n",
      "# tr:  50, epochs:  50, learning rate: 0.010; Accuracy (test, 100 instances): 74.0\n",
      "# tr:  50, epochs:  50, learning rate: 0.050; Accuracy (test, 100 instances): 78.0\n",
      "# tr:  50, epochs: 100, learning rate: 0.005; Accuracy (test, 100 instances): 74.0\n",
      "# tr:  50, epochs: 100, learning rate: 0.010; Accuracy (test, 100 instances): 78.0\n",
      "# tr:  50, epochs: 100, learning rate: 0.050; Accuracy (test, 100 instances): 76.0\n",
      "# tr:  75, epochs:   5, learning rate: 0.005; Accuracy (test, 100 instances): 68.0\n",
      "# tr:  75, epochs:   5, learning rate: 0.010; Accuracy (test, 100 instances): 68.0\n",
      "# tr:  75, epochs:   5, learning rate: 0.050; Accuracy (test, 100 instances): 74.0\n",
      "# tr:  75, epochs:  10, learning rate: 0.005; Accuracy (test, 100 instances): 68.0\n",
      "# tr:  75, epochs:  10, learning rate: 0.010; Accuracy (test, 100 instances): 68.0\n",
      "# tr:  75, epochs:  10, learning rate: 0.050; Accuracy (test, 100 instances): 78.0\n",
      "# tr:  75, epochs:  20, learning rate: 0.005; Accuracy (test, 100 instances): 68.0\n",
      "# tr:  75, epochs:  20, learning rate: 0.010; Accuracy (test, 100 instances): 70.0\n",
      "# tr:  75, epochs:  20, learning rate: 0.050; Accuracy (test, 100 instances): 79.0\n",
      "# tr:  75, epochs:  50, learning rate: 0.005; Accuracy (test, 100 instances): 74.0\n",
      "# tr:  75, epochs:  50, learning rate: 0.010; Accuracy (test, 100 instances): 78.0\n",
      "# tr:  75, epochs:  50, learning rate: 0.050; Accuracy (test, 100 instances): 78.0\n",
      "# tr:  75, epochs: 100, learning rate: 0.005; Accuracy (test, 100 instances): 78.0\n",
      "# tr:  75, epochs: 100, learning rate: 0.010; Accuracy (test, 100 instances): 80.0\n",
      "# tr:  75, epochs: 100, learning rate: 0.050; Accuracy (test, 100 instances): 77.0\n",
      "# tr: 100, epochs:   5, learning rate: 0.005; Accuracy (test, 100 instances): 68.0\n",
      "# tr: 100, epochs:   5, learning rate: 0.010; Accuracy (test, 100 instances): 68.0\n",
      "# tr: 100, epochs:   5, learning rate: 0.050; Accuracy (test, 100 instances): 69.0\n",
      "# tr: 100, epochs:  10, learning rate: 0.005; Accuracy (test, 100 instances): 68.0\n",
      "# tr: 100, epochs:  10, learning rate: 0.010; Accuracy (test, 100 instances): 69.0\n",
      "# tr: 100, epochs:  10, learning rate: 0.050; Accuracy (test, 100 instances): 76.0\n",
      "# tr: 100, epochs:  20, learning rate: 0.005; Accuracy (test, 100 instances): 69.0\n",
      "# tr: 100, epochs:  20, learning rate: 0.010; Accuracy (test, 100 instances): 70.0\n",
      "# tr: 100, epochs:  20, learning rate: 0.050; Accuracy (test, 100 instances): 80.0\n",
      "# tr: 100, epochs:  50, learning rate: 0.005; Accuracy (test, 100 instances): 73.0\n",
      "# tr: 100, epochs:  50, learning rate: 0.010; Accuracy (test, 100 instances): 77.0\n",
      "# tr: 100, epochs:  50, learning rate: 0.050; Accuracy (test, 100 instances): 80.0\n",
      "# tr: 100, epochs: 100, learning rate: 0.005; Accuracy (test, 100 instances): 77.0\n",
      "# tr: 100, epochs: 100, learning rate: 0.010; Accuracy (test, 100 instances): 80.0\n",
      "# tr: 100, epochs: 100, learning rate: 0.050; Accuracy (test, 100 instances): 80.0\n"
     ]
    }
   ],
   "source": [
    "# Define hyperparameters\n",
    "tr_percent = [5, 10, 25, 50, 75, 100]\n",
    "num_epochs = [5, 10, 20, 50, 100]\n",
    "lr = [0.005, 0.01, 0.05]\n",
    "\n",
    "# Load the test dataset\n",
    "instances_te = read_data(\"test.dat\")\n",
    "\n",
    "# Load the entire training dataset\n",
    "instances_tr_all = read_data(\"train.dat\")\n",
    "\n",
    "# Iterate over hyperparameters\n",
    "for tr in tr_percent:\n",
    "    # Load a subset of the training dataset based on tr_percent\n",
    "    instances_tr = instances_tr_all[:int(tr / 100 * len(instances_tr_all))]\n",
    "\n",
    "    # Check if instances_tr is not empty\n",
    "    if instances_tr:\n",
    "        for epochs in num_epochs:\n",
    "            for learning_rate in lr:\n",
    "                # Train the perceptron\n",
    "                weights = train_perceptron(instances_tr, learning_rate, epochs)\n",
    "\n",
    "                # Calculate accuracy with the test dataset\n",
    "                accuracy = get_accuracy(weights, instances_te)\n",
    "\n",
    "                # Print the output\n",
    "                print(f\"# tr: {tr:3}, epochs: {epochs:3}, learning rate: {learning_rate:.3f}; \"\n",
    "                      f\"Accuracy (test, {len(instances_te)} instances): {accuracy:.1f}\")\n",
    "    else:\n",
    "        print(f\"# tr: {tr:3}, epochs: None, learning rate: None; Training dataset is empty.\")\n"
   ]
  },
  {
   "cell_type": "code",
   "execution_count": 10,
   "metadata": {
    "colab": {
     "base_uri": "https://localhost:8080/"
    },
    "id": "G-VKJOUu2BTp",
    "outputId": "4ccb5135-bd41-4491-8f14-148c6943c2be"
   },
   "outputs": [
    {
     "name": "stdout",
     "output_type": "stream",
     "text": [
      "#tr: 20, epochs: 100, learning rate: 0.005; Accuracy (test, 100 instances): 68.0\n",
      "#tr: 40, epochs: 100, learning rate: 0.005; Accuracy (test, 100 instances): 68.0\n",
      "#tr: 100, epochs: 100, learning rate: 0.005; Accuracy (test, 100 instances): 68.0\n",
      "#tr: 200, epochs: 100, learning rate: 0.005; Accuracy (test, 100 instances): 74.0\n",
      "#tr: 300, epochs: 100, learning rate: 0.005; Accuracy (test, 100 instances): 78.0\n",
      "#tr: 400, epochs: 100, learning rate: 0.005; Accuracy (test, 100 instances): 77.0\n",
      "#tr: 20, epochs: 100, learning rate: 0.010; Accuracy (test, 100 instances): 68.0\n",
      "#tr: 40, epochs: 100, learning rate: 0.010; Accuracy (test, 100 instances): 68.0\n",
      "#tr: 100, epochs: 100, learning rate: 0.010; Accuracy (test, 100 instances): 71.0\n",
      "#tr: 200, epochs: 100, learning rate: 0.010; Accuracy (test, 100 instances): 78.0\n",
      "#tr: 300, epochs: 100, learning rate: 0.010; Accuracy (test, 100 instances): 80.0\n",
      "#tr: 400, epochs: 100, learning rate: 0.010; Accuracy (test, 100 instances): 80.0\n",
      "#tr: 20, epochs: 100, learning rate: 0.050; Accuracy (test, 100 instances): 64.0\n",
      "#tr: 40, epochs: 100, learning rate: 0.050; Accuracy (test, 100 instances): 69.0\n",
      "#tr: 100, epochs: 100, learning rate: 0.050; Accuracy (test, 100 instances): 77.0\n",
      "#tr: 200, epochs: 100, learning rate: 0.050; Accuracy (test, 100 instances): 76.0\n",
      "#tr: 300, epochs: 100, learning rate: 0.050; Accuracy (test, 100 instances): 77.0\n",
      "#tr: 400, epochs: 100, learning rate: 0.050; Accuracy (test, 100 instances): 80.0\n"
     ]
    }
   ],
   "source": [
    "instances_tr = read_data(\"train.dat\")\n",
    "instances_te = read_data(\"test.dat\")\n",
    "tr_percent = [5, 10, 25, 50, 75, 100] # percent of the training dataset to train with\n",
    "num_epochs = [5, 10, 20, 50, 100]     # number of epochs\n",
    "lr_array = [0.005, 0.01, 0.05]        # learning rate\n",
    "\n",
    "for lr in lr_array:\n",
    "  for tr_size in tr_percent:\n",
    "    for epochs in num_epochs:\n",
    "      size =  round(len(instances_tr)*tr_size/100)\n",
    "      pre_instances = instances_tr[0:size]\n",
    "      weights = train_perceptron(pre_instances, lr, epochs)\n",
    "      accuracy = get_accuracy(weights, instances_te)\n",
    "    print(f\"#tr: {len(pre_instances):0}, epochs: {epochs:3}, learning rate: {lr:.3f}; \"\n",
    "            f\"Accuracy (test, {len(instances_te)} instances): {accuracy:.1f}\")"
   ]
  },
  {
   "cell_type": "code",
   "execution_count": null,
   "metadata": {
    "id": "57e5Cm2r_UxL"
   },
   "outputs": [],
   "source": []
  },
  {
   "cell_type": "markdown",
   "metadata": {
    "id": "OFB9MtwML24O"
   },
   "source": [
    "### Question 3\n",
    "Write a couple paragraphs interpreting the results with all the combinations of hyperparameters. Drawing a plot will probably help you make a point. In particular, answer the following:\n",
    "- A. Do you need to train with all the training dataset to get the highest accuracy with the test dataset?\n",
    "- B. How do you justify that training the second run obtains worse accuracy than the first one (despite the second one uses more training data)?\n",
    "   ```\n",
    "#tr: 100, epochs:  20, learning rate: 0.050; Accuracy (test, 100 instances): 71.0\n",
    "#tr: 200, epochs:  20, learning rate: 0.005; Accuracy (test, 100 instances): 68.0\n",
    "```\n",
    "- C. Can you get higher accuracy with additional hyperparameters (higher than `80.0`)?\n",
    "- D. Is it always worth training for more epochs (while keeping all other hyperparameters fixed)?\n",
    "\n",
    "#### TODO: Add your answer here (code and text)\n",
    "\n"
   ]
  },
  {
   "cell_type": "code",
   "execution_count": 17,
   "metadata": {
    "colab": {
     "base_uri": "https://localhost:8080/",
     "height": 718
    },
    "id": "Ys1RoCkrCa4y",
    "outputId": "91ddb3d4-fb9c-411d-bf00-3a72c7012e47"
   },
   "outputs": [
    {
     "data": {
      "image/png": "[encoded data removed]",
      "text/plain": [
       "<Figure size 1200x800 with 2 Axes>"
      ]
     },
     "metadata": {},
     "output_type": "display_data"
    }
   ],
   "source": [
    "import seaborn as sns\n",
    "import pandas as pd\n",
    "import matplotlib.pyplot as plt\n",
    "\n",
    "# Define hyperparameters\n",
    "tr_percent = [5, 10, 25, 50, 75, 100]\n",
    "num_epochs = [5, 10, 20, 50, 100]\n",
    "lr = [0.005, 0.01, 0.05]\n",
    "\n",
    "# Load the test dataset\n",
    "instances_te = read_data(\"test.dat\")\n",
    "\n",
    "# Load the entire training dataset\n",
    "instances_tr_all = read_data(\"train.dat\")\n",
    "\n",
    "# Initialize a dictionary to store accuracy values\n",
    "accuracy_dict = {'tr_percent': [], 'num_epochs': [], 'lr': [], 'accuracy': []}\n",
    "\n",
    "# Iterate over hyperparameters\n",
    "for tr in tr_percent:\n",
    "    # Load a subset of the training dataset based on tr_percent\n",
    "    instances_tr = instances_tr_all[:int(tr / 100 * len(instances_tr_all))]\n",
    "\n",
    "    # Check if instances_tr is not empty\n",
    "    if instances_tr:\n",
    "        for epochs in num_epochs:\n",
    "            for learning_rate in lr:\n",
    "                # Train the perceptron\n",
    "                weights = train_perceptron(instances_tr, learning_rate, epochs)\n",
    "\n",
    "                # Calculate accuracy with the test dataset\n",
    "                accuracy = get_accuracy(weights, instances_te)\n",
    "\n",
    "                # Store accuracy values in the dictionary\n",
    "                accuracy_dict['tr_percent'].append(tr)\n",
    "                accuracy_dict['num_epochs'].append(epochs)\n",
    "                accuracy_dict['lr'].append(learning_rate)\n",
    "                accuracy_dict['accuracy'].append(accuracy)\n",
    "    else:\n",
    "        # Store None values if the training dataset is empty\n",
    "        for epochs in num_epochs:\n",
    "            for learning_rate in lr:\n",
    "                accuracy_dict['tr_percent'].append(tr)\n",
    "                accuracy_dict['num_epochs'].append(epochs)\n",
    "                accuracy_dict['lr'].append(learning_rate)\n",
    "                accuracy_dict['accuracy'].append(None)\n",
    "\n",
    "# Convert the dictionary to a DataFrame\n",
    "accuracy_df = pd.DataFrame(accuracy_dict)\n",
    "\n",
    "# Plotting\n",
    "plt.figure(figsize=(12, 8))\n",
    "sns.heatmap(accuracy_df.pivot_table(index='num_epochs', columns='lr', values='accuracy'), annot=True, cmap='viridis', fmt='.1f')\n",
    "plt.title('Accuracy Heatmap for Different Hyperparameters')\n",
    "plt.xlabel('Learning Rate')\n",
    "plt.ylabel('Number of Epochs')\n",
    "plt.show()\n"
   ]
  },
  {
   "cell_type": "markdown",
   "metadata": {
    "id": "38rA_Kp3wiBX"
   },
   "source": [
    "## A. Do you need to train with all the training dataset to get the highest accuracy with the test dataset?\n",
    "\n",
    "No, employing the whole training dataset with the test dataset for the best accuracy is not required. As a result demonstrates, even with smaller fractions of the training set (5% or 10%), the model can show reasonably good accuracy on the test set. This implies the model can generalize well even on a small training dataset.\n",
    "\n",
    "## B. How do you justify that training the second run obtains worse accuracy than the first one (despite the second one uses more training data)?\n",
    "\n",
    "\n",
    "The overfitting could be one reason we get an accuracy loss even though we use more training data. With the help of the additional data points, the model can become more vulnerable to overfitting if the hyper-parameters are not correctly set. Expanding the training dataset size could also introduce more noise or patterns of no use to the model's ability to generalize.\n",
    "## C. Can you get higher accuracy with additional hyperparameters (higher than 80.0)?\n",
    "\n",
    "\n",
    "The accuracy that can be achieved will be minimal, even with more parameters. The perceptron model employed in this context is relatively simple and cannot capture complex patterns, which can lead to a significantly higher accuracy. Gaining greater precision, more complex models or feature engineering designs might be needed.\n",
    "\n",
    "## D. Is it always worth training for more epochs (while keeping all other hyperparameters fixed)?\n",
    "\n",
    "Not necessarily. Training the model for more epochs can potentially result in better performance by allowing the model to detect more complex data patterns. Still, the danger of overfitting is there, especially if the dataset is relatively small or the model has no complex architecture. It is necessary to find the optimum number of epochs for the captured essential patterns while avoiding overfitting by monitoring the model's performance on a validation dataset.\n"
   ]
  },
  {
   "cell_type": "code",
   "execution_count": null,
   "metadata": {
    "id": "cf-ItX9uD1q6"
   },
   "outputs": [],
   "source": []
  }
 ],
 "metadata": {
  "accelerator": "GPU",
  "colab": {
   "provenance": [],
   "toc_visible": true
  },
  "kernelspec": {
   "display_name": "Python 3 (ipykernel)",
   "language": "python",
   "name": "python3"
  },
  "language_info": {
   "codemirror_mode": {
    "name": "ipython",
    "version": 3
   },
   "file_extension": ".py",
   "mimetype": "text/x-python",
   "name": "python",
   "nbconvert_exporter": "python",
   "pygments_lexer": "ipython3",
   "version": "3.11.5"
  }
 },
 "nbformat": 4,
 "nbformat_minor": 1
}
